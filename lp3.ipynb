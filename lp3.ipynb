{
 "cells": [
  {
   "cell_type": "code",
   "execution_count": 1,
   "metadata": {},
   "outputs": [],
   "source": [
    "# Data manipulation packages\n",
    "import pandas as pd  # Pandas provides data structures for efficiently storing large datasets and tools for data analysis.\n",
    "import numpy as np   # NumPy is used for numerical operations and array manipulations.\n",
    "\n",
    "# Data Visualization packages\n",
    "import matplotlib.pyplot as plt  # Matplotlib is a 2D plotting library for creating static, animated, and interactive visualizations in Python.\n",
    "import seaborn as sns  # Seaborn is a statistical data visualization library based on Matplotlib. It provides a high-level interface for drawing attractive and informative statistical graphics.\n",
    "\n",
    "# Machine learning Packages\n",
    "from sklearn.pipeline import Pipeline  \n",
    "from sklearn.compose import ColumnTransformer  # ColumnTransformer allows applying different transformers to different columns in a dataset.\n",
    "from sklearn.impute import SimpleImputer  # SimpleImputer is used for handling missing data by imputing missing values with specified strategies.\n",
    "from sklearn.preprocessing import StandardScaler, MinMaxScaler, RobustScaler  # These classes provide different methods for scaling/normalizing numerical features.\n",
    "from sklearn.preprocessing import OneHotEncoder, LabelEncoder, OrdinalEncoder  # These classes handle categorical feature encoding (one-hot, label, and ordinal encoding).\n",
    "from sklearn.preprocessing import FunctionTransformer  # FunctionTransformer allows applying custom functions to transform data.\n",
    "from sklearn.tree import DecisionTreeClassifier  # DecisionTreeClassifier is an implementation of a decision tree classifier.\n",
    "from sklearn.metrics import accuracy_score, classification_report  # These metrics are used for evaluating classification model performance.\n",
    "from sklearn.model_selection import train_test_split  # train_test_split is used to split a dataset into training and testing sets.\n",
    "from sklearn import set_config  # set_config allows configuring global scikit-learn behavior.\n",
    "from sklearn.ensemble import RandomForestClassifier  # RandomForestClassifier is an ensemble learning method based on decision trees.\n",
    "from sklearn.svm import SVC  # Support Vector Classifier (SVC) is a classifier that uses support vector machines for classification.\n",
    "from sklearn.preprocessing import PowerTransformer  # PowerTransformer applies power transformations to make data more Gaussian-like.\n",
    "from sklearn.naive_bayes import GaussianNB  # Gaussian Naive Bayes is a probabilistic classifier based on the Gaussian distribution.\n",
    "from sklearn.ensemble import GradientBoostingClassifier  # GradientBoostingClassifier is an ensemble method that builds a sequence of weak learners (trees).\n",
    "from scipy.stats import pearsonr  # Pearson correlation coefficient measures the linear relationship between two variables.\n",
    "from sklearn.model_selection import cross_val_score  # cross_val_score is used for cross-validated model performance evaluation.\n",
    "from imblearn.under_sampling import RandomUnderSampler  # RandomUnderSampler is used for under-sampling to address class imbalance.\n",
    "from imblearn.over_sampling import RandomOverSampler, SMOTE  # RandomOverSampler and SMOTE are used for over-sampling to address class imbalance.\n",
    "from sklearn.feature_selection import SelectKBest, mutual_info_classif  # SelectKBest performs feature selection based on scoring functions like mutual information.\n",
    "from imblearn.over_sampling import SMOTE  # SMOTE is a technique for generating synthetic samples to address class imbalance.\n",
    "from sklearn.datasets import make_classification  # make_classification generates a synthetic dataset for classification.\n",
    "from sklearn.metrics import roc_curve, roc_auc_score  # roc_curve and roc_auc_score are used for Receiver Operating Characteristic (ROC) curve analysis.\n",
    "from sklearn.metrics import confusion_matrix  # confusion_matrix calculates the confusion matrix for classification models.\n",
    "from sklearn.model_selection import GridSearchCV  # GridSearchCV performs hyperparameter tuning using grid search.\n",
    "\n",
    "# Database connection package\n",
    "import pyodbc  # PyODBC is a Python module that makes accessing ODBC databases simple.\n",
    "from dotenv import dotenv_values  # dotenv loads environment variables from a .env file.\n",
    "\n",
    "# Ignore warnings (optional)\n",
    "import warnings  # The warnings module provides a way to handle warnings in Python.\n",
    "warnings.filterwarnings(\"ignore\")"
   ]
  },
  {
   "cell_type": "markdown",
   "metadata": {},
   "source": [
    "# Step 1: Data Connection & Importation"
   ]
  },
  {
   "cell_type": "code",
   "execution_count": 2,
   "metadata": {},
   "outputs": [],
   "source": [
    "# Load environment variables from .env file into a dictionary\n",
    "environment_variables = dotenv_values('.env')\n",
    "\n",
    "# Get the values for the credentials you set in the '.env' file\n",
    "server = environment_variables.get(\"server_name\")\n",
    "database = environment_variables.get(\"database_name\")\n",
    "username = environment_variables.get(\"username\")\n",
    "password = environment_variables.get(\"password\")"
   ]
  },
  {
   "cell_type": "code",
   "execution_count": 3,
   "metadata": {},
   "outputs": [],
   "source": [
    "# Create a connection string\n",
    "connection_string = f\"DRIVER={{SQL Server}};SERVER={server};DATABASE={database};UID={username};PWD={password};MARS_Connection=yes;MinP\""
   ]
  },
  {
   "cell_type": "code",
   "execution_count": 4,
   "metadata": {},
   "outputs": [],
   "source": [
    "# Use the connect method of the pyodbc library and pass in the connection string.\n",
    "# This will connect to the server \n",
    "\n",
    "\n",
    "connection = pyodbc.connect(connection_string)"
   ]
  },
  {
   "cell_type": "code",
   "execution_count": 5,
   "metadata": {},
   "outputs": [],
   "source": [
    "# Now the sql query to get the data is what what you see below. \n",
    "# Note that you will not have permissions to insert delete or update this database table. \n",
    "\n",
    "query = \"SELECT * FROM dbo.oil\"\n",
    "\n",
    "oil_table = pd.read_sql(query, connection)\n",
    "\n",
    "#Holiday_events table \n",
    "\n",
    "query = \"SELECT * FROM dbo.holidays_events\"\n",
    "\n",
    "holiday_events = pd.read_sql(query, connection)\n",
    "\n",
    "#Stores Table\n",
    "\n",
    "query = \"SELECT * FROM dbo.stores\"\n",
    "\n",
    "stores_table = pd.read_sql(query, connection)"
   ]
  },
  {
   "cell_type": "code",
   "execution_count": 6,
   "metadata": {},
   "outputs": [],
   "source": [
    "# Load the third dataset (it's a CSV file named 'test', 'transaction', 'sample_submission')\n",
    "\n",
    "test_data = pd.read_csv('test.csv')\n",
    "\n",
    "transaction_data = pd.read_csv('transactions.csv')\n",
    "\n",
    "sample_data = pd.read_csv('sample_submission.csv')"
   ]
  },
  {
   "cell_type": "markdown",
   "metadata": {},
   "source": [
    "# Step 1: Data Exploration and Understanding"
   ]
  },
  {
   "cell_type": "code",
   "execution_count": 19,
   "metadata": {},
   "outputs": [
    {
     "name": "stdout",
     "output_type": "stream",
     "text": [
      "Holiday Events Summary:\n"
     ]
    },
    {
     "data": {
      "text/html": [
       "<div>\n",
       "<style scoped>\n",
       "    .dataframe tbody tr th:only-of-type {\n",
       "        vertical-align: middle;\n",
       "    }\n",
       "\n",
       "    .dataframe tbody tr th {\n",
       "        vertical-align: top;\n",
       "    }\n",
       "\n",
       "    .dataframe thead th {\n",
       "        text-align: right;\n",
       "    }\n",
       "</style>\n",
       "<table border=\"1\" class=\"dataframe\">\n",
       "  <thead>\n",
       "    <tr style=\"text-align: right;\">\n",
       "      <th></th>\n",
       "      <th>count</th>\n",
       "      <th>unique</th>\n",
       "      <th>top</th>\n",
       "      <th>freq</th>\n",
       "    </tr>\n",
       "  </thead>\n",
       "  <tbody>\n",
       "    <tr>\n",
       "      <th>date</th>\n",
       "      <td>350</td>\n",
       "      <td>312</td>\n",
       "      <td>2014-06-25</td>\n",
       "      <td>4</td>\n",
       "    </tr>\n",
       "    <tr>\n",
       "      <th>type</th>\n",
       "      <td>350</td>\n",
       "      <td>6</td>\n",
       "      <td>Holiday</td>\n",
       "      <td>221</td>\n",
       "    </tr>\n",
       "    <tr>\n",
       "      <th>locale</th>\n",
       "      <td>350</td>\n",
       "      <td>3</td>\n",
       "      <td>National</td>\n",
       "      <td>174</td>\n",
       "    </tr>\n",
       "    <tr>\n",
       "      <th>locale_name</th>\n",
       "      <td>350</td>\n",
       "      <td>24</td>\n",
       "      <td>Ecuador</td>\n",
       "      <td>174</td>\n",
       "    </tr>\n",
       "    <tr>\n",
       "      <th>description</th>\n",
       "      <td>350</td>\n",
       "      <td>103</td>\n",
       "      <td>Carnaval</td>\n",
       "      <td>10</td>\n",
       "    </tr>\n",
       "  </tbody>\n",
       "</table>\n",
       "</div>"
      ],
      "text/plain": [
       "            count unique         top freq\n",
       "date          350    312  2014-06-25    4\n",
       "type          350      6     Holiday  221\n",
       "locale        350      3    National  174\n",
       "locale_name   350     24     Ecuador  174\n",
       "description   350    103    Carnaval   10"
      ]
     },
     "metadata": {},
     "output_type": "display_data"
    },
    {
     "name": "stdout",
     "output_type": "stream",
     "text": [
      "==================================================\n",
      "Stores Summary:\n"
     ]
    },
    {
     "data": {
      "text/html": [
       "<div>\n",
       "<style scoped>\n",
       "    .dataframe tbody tr th:only-of-type {\n",
       "        vertical-align: middle;\n",
       "    }\n",
       "\n",
       "    .dataframe tbody tr th {\n",
       "        vertical-align: top;\n",
       "    }\n",
       "\n",
       "    .dataframe thead th {\n",
       "        text-align: right;\n",
       "    }\n",
       "</style>\n",
       "<table border=\"1\" class=\"dataframe\">\n",
       "  <thead>\n",
       "    <tr style=\"text-align: right;\">\n",
       "      <th></th>\n",
       "      <th>count</th>\n",
       "      <th>unique</th>\n",
       "      <th>top</th>\n",
       "      <th>freq</th>\n",
       "    </tr>\n",
       "  </thead>\n",
       "  <tbody>\n",
       "    <tr>\n",
       "      <th>city</th>\n",
       "      <td>54</td>\n",
       "      <td>22</td>\n",
       "      <td>Quito</td>\n",
       "      <td>18</td>\n",
       "    </tr>\n",
       "    <tr>\n",
       "      <th>state</th>\n",
       "      <td>54</td>\n",
       "      <td>16</td>\n",
       "      <td>Pichincha</td>\n",
       "      <td>19</td>\n",
       "    </tr>\n",
       "    <tr>\n",
       "      <th>type</th>\n",
       "      <td>54</td>\n",
       "      <td>5</td>\n",
       "      <td>D</td>\n",
       "      <td>18</td>\n",
       "    </tr>\n",
       "  </tbody>\n",
       "</table>\n",
       "</div>"
      ],
      "text/plain": [
       "      count unique        top freq\n",
       "city     54     22      Quito   18\n",
       "state    54     16  Pichincha   19\n",
       "type     54      5          D   18"
      ]
     },
     "metadata": {},
     "output_type": "display_data"
    },
    {
     "name": "stdout",
     "output_type": "stream",
     "text": [
      "==================================================\n",
      "Oil Summary:\n"
     ]
    },
    {
     "data": {
      "text/html": [
       "<div>\n",
       "<style scoped>\n",
       "    .dataframe tbody tr th:only-of-type {\n",
       "        vertical-align: middle;\n",
       "    }\n",
       "\n",
       "    .dataframe tbody tr th {\n",
       "        vertical-align: top;\n",
       "    }\n",
       "\n",
       "    .dataframe thead th {\n",
       "        text-align: right;\n",
       "    }\n",
       "</style>\n",
       "<table border=\"1\" class=\"dataframe\">\n",
       "  <thead>\n",
       "    <tr style=\"text-align: right;\">\n",
       "      <th></th>\n",
       "      <th>count</th>\n",
       "      <th>unique</th>\n",
       "      <th>top</th>\n",
       "      <th>freq</th>\n",
       "    </tr>\n",
       "  </thead>\n",
       "  <tbody>\n",
       "    <tr>\n",
       "      <th>date</th>\n",
       "      <td>1218</td>\n",
       "      <td>1218</td>\n",
       "      <td>2013-01-01</td>\n",
       "      <td>1</td>\n",
       "    </tr>\n",
       "  </tbody>\n",
       "</table>\n",
       "</div>"
      ],
      "text/plain": [
       "     count unique         top freq\n",
       "date  1218   1218  2013-01-01    1"
      ]
     },
     "metadata": {},
     "output_type": "display_data"
    }
   ],
   "source": [
    "\n",
    "# Display summary statistics for the 'object' columns in holiday_events\n",
    "holiday_summary = holiday_events.describe(include='object').T\n",
    "\n",
    "# Display summary statistics for the 'object' columns in stores_table\n",
    "stores_summary = stores_table.describe(include='object').T\n",
    "\n",
    "# Display summary statistics for the 'object' columns in oil_table\n",
    "oil_summary = oil_table.describe(include='object').T\n",
    "\n",
    "# Display the results\n",
    "print(\"Holiday Events Summary:\")\n",
    "display(holiday_summary)\n",
    "print ('=' * 50)\n",
    "print(\"Stores Summary:\")\n",
    "display(stores_summary)\n",
    "print ('=' * 50)\n",
    "print(\"Oil Summary:\")\n",
    "display(oil_summary)\n"
   ]
  },
  {
   "cell_type": "code",
   "execution_count": 21,
   "metadata": {},
   "outputs": [
    {
     "name": "stdout",
     "output_type": "stream",
     "text": [
      "Holiday Events Info:\n",
      "==================================================\n",
      "<class 'pandas.core.frame.DataFrame'>\n",
      "RangeIndex: 350 entries, 0 to 349\n",
      "Data columns (total 6 columns):\n",
      " #   Column       Non-Null Count  Dtype \n",
      "---  ------       --------------  ----- \n",
      " 0   date         350 non-null    object\n",
      " 1   type         350 non-null    object\n",
      " 2   locale       350 non-null    object\n",
      " 3   locale_name  350 non-null    object\n",
      " 4   description  350 non-null    object\n",
      " 5   transferred  350 non-null    bool  \n",
      "dtypes: bool(1), object(5)\n",
      "memory usage: 14.1+ KB\n"
     ]
    },
    {
     "data": {
      "text/plain": [
       "None"
      ]
     },
     "metadata": {},
     "output_type": "display_data"
    },
    {
     "name": "stdout",
     "output_type": "stream",
     "text": [
      "Stores Table Info:\n",
      "==================================================\n",
      "<class 'pandas.core.frame.DataFrame'>\n",
      "RangeIndex: 54 entries, 0 to 53\n",
      "Data columns (total 5 columns):\n",
      " #   Column     Non-Null Count  Dtype \n",
      "---  ------     --------------  ----- \n",
      " 0   store_nbr  54 non-null     int64 \n",
      " 1   city       54 non-null     object\n",
      " 2   state      54 non-null     object\n",
      " 3   type       54 non-null     object\n",
      " 4   cluster    54 non-null     int64 \n",
      "dtypes: int64(2), object(3)\n",
      "memory usage: 2.2+ KB\n"
     ]
    },
    {
     "data": {
      "text/plain": [
       "None"
      ]
     },
     "metadata": {},
     "output_type": "display_data"
    },
    {
     "name": "stdout",
     "output_type": "stream",
     "text": [
      "Oil Table Info:\n",
      "==================================================\n",
      "<class 'pandas.core.frame.DataFrame'>\n",
      "RangeIndex: 1218 entries, 0 to 1217\n",
      "Data columns (total 2 columns):\n",
      " #   Column      Non-Null Count  Dtype  \n",
      "---  ------      --------------  -----  \n",
      " 0   date        1218 non-null   object \n",
      " 1   dcoilwtico  1175 non-null   float64\n",
      "dtypes: float64(1), object(1)\n",
      "memory usage: 19.2+ KB\n"
     ]
    },
    {
     "data": {
      "text/plain": [
       "None"
      ]
     },
     "metadata": {},
     "output_type": "display_data"
    }
   ],
   "source": [
    "\n",
    "# Display info for holiday_events\n",
    "print(\"Holiday Events Info:\")\n",
    "print ('=' * 50)\n",
    "holiday_events_info = holiday_events.info()\n",
    "display(holiday_events_info)\n",
    "\n",
    "\n",
    "# Display info for stores_table\n",
    "print(\"Stores Table Info:\")\n",
    "print ('=' * 50)\n",
    "stores_table_info = stores_table.info()\n",
    "display(stores_table_info)\n",
    "\n",
    "\n",
    "# Display info for oil_table\n",
    "print(\"Oil Table Info:\")\n",
    "print ('=' * 50)\n",
    "oil_table_info = oil_table.info()\n",
    "display(oil_table_info)\n",
    "\n"
   ]
  },
  {
   "cell_type": "code",
   "execution_count": 20,
   "metadata": {},
   "outputs": [
    {
     "name": "stdout",
     "output_type": "stream",
     "text": [
      "Holiday Events Missing Values:\n",
      "==================================================\n"
     ]
    },
    {
     "data": {
      "text/plain": [
       "date           0\n",
       "type           0\n",
       "locale         0\n",
       "locale_name    0\n",
       "description    0\n",
       "transferred    0\n",
       "dtype: int64"
      ]
     },
     "metadata": {},
     "output_type": "display_data"
    },
    {
     "name": "stdout",
     "output_type": "stream",
     "text": [
      "\n",
      "Stores Table Missing Values:\n",
      "==================================================\n"
     ]
    },
    {
     "data": {
      "text/plain": [
       "store_nbr    0\n",
       "city         0\n",
       "state        0\n",
       "type         0\n",
       "cluster      0\n",
       "dtype: int64"
      ]
     },
     "metadata": {},
     "output_type": "display_data"
    },
    {
     "name": "stdout",
     "output_type": "stream",
     "text": [
      "\n",
      "Oil Table Missing Values:\n",
      "==================================================\n"
     ]
    },
    {
     "data": {
      "text/plain": [
       "date           0\n",
       "dcoilwtico    43\n",
       "dtype: int64"
      ]
     },
     "metadata": {},
     "output_type": "display_data"
    }
   ],
   "source": [
    "\n",
    "# Display missing value counts for holiday_events\n",
    "print(\"Holiday Events Missing Values:\")\n",
    "print('=' * 50)\n",
    "holiday_events_missing = holiday_events.isnull().sum()\n",
    "display(holiday_events_missing)\n",
    "\n",
    "# Display missing value counts for stores_table\n",
    "print(\"\\nStores Table Missing Values:\")\n",
    "print('=' * 50)\n",
    "stores_missing = stores_table.isnull().sum()\n",
    "display(stores_missing)\n",
    "\n",
    "# Display missing value counts for oil_table\n",
    "print(\"\\nOil Table Missing Values:\")\n",
    "print('=' * 50)\n",
    "oil_missing = oil_table.isnull().sum()\n",
    "display(oil_missing)\n"
   ]
  },
  {
   "cell_type": "code",
   "execution_count": 22,
   "metadata": {},
   "outputs": [
    {
     "name": "stdout",
     "output_type": "stream",
     "text": [
      "Holiday Events Shape:\n",
      "==================================================\n",
      "Number of rows: 350\n",
      "Number of columns: 6\n",
      "\n",
      "Stores Table Shape:\n",
      "==================================================\n",
      "Number of rows: 54\n",
      "Number of columns: 5\n",
      "\n",
      "Oil Table Shape:\n",
      "==================================================\n",
      "Number of rows: 1218\n",
      "Number of columns: 2\n"
     ]
    }
   ],
   "source": [
    "# Display shape information for holiday_events\n",
    "print(\"Holiday Events Shape:\")\n",
    "print('=' * 50)\n",
    "holiday_events_shape = holiday_events.shape\n",
    "print(\"Number of rows:\", holiday_events_shape[0])\n",
    "print(\"Number of columns:\", holiday_events_shape[1])\n",
    "\n",
    "# Display shape information for stores_table\n",
    "print(\"\\nStores Table Shape:\")\n",
    "print('=' * 50)\n",
    "stores_shape = stores_table.shape\n",
    "print(\"Number of rows:\", stores_shape[0])\n",
    "print(\"Number of columns:\", stores_shape[1])\n",
    "\n",
    "# Display shape information for oil_table\n",
    "print(\"\\nOil Table Shape:\")\n",
    "print('=' * 50)\n",
    "oil_shape = oil_table.shape\n",
    "print(\"Number of rows:\", oil_shape[0])\n",
    "print(\"Number of columns:\", oil_shape[1])\n"
   ]
  },
  {
   "cell_type": "code",
   "execution_count": 23,
   "metadata": {},
   "outputs": [
    {
     "name": "stdout",
     "output_type": "stream",
     "text": [
      "Holiday Events Descriptive Statistics:\n",
      "==================================================\n"
     ]
    },
    {
     "data": {
      "text/html": [
       "<div>\n",
       "<style scoped>\n",
       "    .dataframe tbody tr th:only-of-type {\n",
       "        vertical-align: middle;\n",
       "    }\n",
       "\n",
       "    .dataframe tbody tr th {\n",
       "        vertical-align: top;\n",
       "    }\n",
       "\n",
       "    .dataframe thead th {\n",
       "        text-align: right;\n",
       "    }\n",
       "</style>\n",
       "<table border=\"1\" class=\"dataframe\">\n",
       "  <thead>\n",
       "    <tr style=\"text-align: right;\">\n",
       "      <th></th>\n",
       "      <th>date</th>\n",
       "      <th>type</th>\n",
       "      <th>locale</th>\n",
       "      <th>locale_name</th>\n",
       "      <th>description</th>\n",
       "      <th>transferred</th>\n",
       "    </tr>\n",
       "  </thead>\n",
       "  <tbody>\n",
       "    <tr>\n",
       "      <th>count</th>\n",
       "      <td>350</td>\n",
       "      <td>350</td>\n",
       "      <td>350</td>\n",
       "      <td>350</td>\n",
       "      <td>350</td>\n",
       "      <td>350</td>\n",
       "    </tr>\n",
       "    <tr>\n",
       "      <th>unique</th>\n",
       "      <td>312</td>\n",
       "      <td>6</td>\n",
       "      <td>3</td>\n",
       "      <td>24</td>\n",
       "      <td>103</td>\n",
       "      <td>2</td>\n",
       "    </tr>\n",
       "    <tr>\n",
       "      <th>top</th>\n",
       "      <td>2014-06-25</td>\n",
       "      <td>Holiday</td>\n",
       "      <td>National</td>\n",
       "      <td>Ecuador</td>\n",
       "      <td>Carnaval</td>\n",
       "      <td>False</td>\n",
       "    </tr>\n",
       "    <tr>\n",
       "      <th>freq</th>\n",
       "      <td>4</td>\n",
       "      <td>221</td>\n",
       "      <td>174</td>\n",
       "      <td>174</td>\n",
       "      <td>10</td>\n",
       "      <td>338</td>\n",
       "    </tr>\n",
       "  </tbody>\n",
       "</table>\n",
       "</div>"
      ],
      "text/plain": [
       "              date     type    locale locale_name description transferred\n",
       "count          350      350       350         350         350         350\n",
       "unique         312        6         3          24         103           2\n",
       "top     2014-06-25  Holiday  National     Ecuador    Carnaval       False\n",
       "freq             4      221       174         174          10         338"
      ]
     },
     "metadata": {},
     "output_type": "display_data"
    },
    {
     "name": "stdout",
     "output_type": "stream",
     "text": [
      "\n",
      "Stores Table Descriptive Statistics:\n",
      "==================================================\n"
     ]
    },
    {
     "data": {
      "text/html": [
       "<div>\n",
       "<style scoped>\n",
       "    .dataframe tbody tr th:only-of-type {\n",
       "        vertical-align: middle;\n",
       "    }\n",
       "\n",
       "    .dataframe tbody tr th {\n",
       "        vertical-align: top;\n",
       "    }\n",
       "\n",
       "    .dataframe thead th {\n",
       "        text-align: right;\n",
       "    }\n",
       "</style>\n",
       "<table border=\"1\" class=\"dataframe\">\n",
       "  <thead>\n",
       "    <tr style=\"text-align: right;\">\n",
       "      <th></th>\n",
       "      <th>store_nbr</th>\n",
       "      <th>cluster</th>\n",
       "    </tr>\n",
       "  </thead>\n",
       "  <tbody>\n",
       "    <tr>\n",
       "      <th>count</th>\n",
       "      <td>54.000000</td>\n",
       "      <td>54.000000</td>\n",
       "    </tr>\n",
       "    <tr>\n",
       "      <th>mean</th>\n",
       "      <td>27.500000</td>\n",
       "      <td>8.481481</td>\n",
       "    </tr>\n",
       "    <tr>\n",
       "      <th>std</th>\n",
       "      <td>15.732133</td>\n",
       "      <td>4.693395</td>\n",
       "    </tr>\n",
       "    <tr>\n",
       "      <th>min</th>\n",
       "      <td>1.000000</td>\n",
       "      <td>1.000000</td>\n",
       "    </tr>\n",
       "    <tr>\n",
       "      <th>25%</th>\n",
       "      <td>14.250000</td>\n",
       "      <td>4.000000</td>\n",
       "    </tr>\n",
       "    <tr>\n",
       "      <th>50%</th>\n",
       "      <td>27.500000</td>\n",
       "      <td>8.500000</td>\n",
       "    </tr>\n",
       "    <tr>\n",
       "      <th>75%</th>\n",
       "      <td>40.750000</td>\n",
       "      <td>13.000000</td>\n",
       "    </tr>\n",
       "    <tr>\n",
       "      <th>max</th>\n",
       "      <td>54.000000</td>\n",
       "      <td>17.000000</td>\n",
       "    </tr>\n",
       "  </tbody>\n",
       "</table>\n",
       "</div>"
      ],
      "text/plain": [
       "       store_nbr    cluster\n",
       "count  54.000000  54.000000\n",
       "mean   27.500000   8.481481\n",
       "std    15.732133   4.693395\n",
       "min     1.000000   1.000000\n",
       "25%    14.250000   4.000000\n",
       "50%    27.500000   8.500000\n",
       "75%    40.750000  13.000000\n",
       "max    54.000000  17.000000"
      ]
     },
     "metadata": {},
     "output_type": "display_data"
    },
    {
     "name": "stdout",
     "output_type": "stream",
     "text": [
      "\n",
      "Oil Table Descriptive Statistics:\n",
      "==================================================\n"
     ]
    },
    {
     "data": {
      "text/html": [
       "<div>\n",
       "<style scoped>\n",
       "    .dataframe tbody tr th:only-of-type {\n",
       "        vertical-align: middle;\n",
       "    }\n",
       "\n",
       "    .dataframe tbody tr th {\n",
       "        vertical-align: top;\n",
       "    }\n",
       "\n",
       "    .dataframe thead th {\n",
       "        text-align: right;\n",
       "    }\n",
       "</style>\n",
       "<table border=\"1\" class=\"dataframe\">\n",
       "  <thead>\n",
       "    <tr style=\"text-align: right;\">\n",
       "      <th></th>\n",
       "      <th>dcoilwtico</th>\n",
       "    </tr>\n",
       "  </thead>\n",
       "  <tbody>\n",
       "    <tr>\n",
       "      <th>count</th>\n",
       "      <td>1175.000000</td>\n",
       "    </tr>\n",
       "    <tr>\n",
       "      <th>mean</th>\n",
       "      <td>67.714366</td>\n",
       "    </tr>\n",
       "    <tr>\n",
       "      <th>std</th>\n",
       "      <td>25.630476</td>\n",
       "    </tr>\n",
       "    <tr>\n",
       "      <th>min</th>\n",
       "      <td>26.190001</td>\n",
       "    </tr>\n",
       "    <tr>\n",
       "      <th>25%</th>\n",
       "      <td>46.405001</td>\n",
       "    </tr>\n",
       "    <tr>\n",
       "      <th>50%</th>\n",
       "      <td>53.189999</td>\n",
       "    </tr>\n",
       "    <tr>\n",
       "      <th>75%</th>\n",
       "      <td>95.660000</td>\n",
       "    </tr>\n",
       "    <tr>\n",
       "      <th>max</th>\n",
       "      <td>110.620003</td>\n",
       "    </tr>\n",
       "  </tbody>\n",
       "</table>\n",
       "</div>"
      ],
      "text/plain": [
       "        dcoilwtico\n",
       "count  1175.000000\n",
       "mean     67.714366\n",
       "std      25.630476\n",
       "min      26.190001\n",
       "25%      46.405001\n",
       "50%      53.189999\n",
       "75%      95.660000\n",
       "max     110.620003"
      ]
     },
     "metadata": {},
     "output_type": "display_data"
    }
   ],
   "source": [
    "# Display descriptive statistics for holiday_events\n",
    "print(\"Holiday Events Descriptive Statistics:\")\n",
    "print('=' * 50)\n",
    "holiday_events_describe = holiday_events.describe()\n",
    "display(holiday_events_describe)\n",
    "\n",
    "# Display descriptive statistics for stores_table\n",
    "print(\"\\nStores Table Descriptive Statistics:\")\n",
    "print('=' * 50)\n",
    "stores_describe = stores_table.describe()\n",
    "display(stores_describe)\n",
    "\n",
    "# Display descriptive statistics for oil_table\n",
    "print(\"\\nOil Table Descriptive Statistics:\")\n",
    "print('=' * 50)\n",
    "oil_describe = oil_table.describe()\n",
    "display(oil_describe)\n"
   ]
  }
 ],
 "metadata": {
  "kernelspec": {
   "display_name": "Python 3",
   "language": "python",
   "name": "python3"
  },
  "language_info": {
   "codemirror_mode": {
    "name": "ipython",
    "version": 3
   },
   "file_extension": ".py",
   "mimetype": "text/x-python",
   "name": "python",
   "nbconvert_exporter": "python",
   "pygments_lexer": "ipython3",
   "version": "3.11.6"
  }
 },
 "nbformat": 4,
 "nbformat_minor": 2
}
